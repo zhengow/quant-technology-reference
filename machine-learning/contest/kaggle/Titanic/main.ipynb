{
 "cells": [
  {
   "cell_type": "code",
   "execution_count": 1,
   "metadata": {},
   "outputs": [],
   "source": [
    "# init env\n",
    "import numpy as np\n",
    "import pandas as pd\n",
    "import os\n",
    "\n",
    "data_dir = 'data'\n",
    "competition_name = 'titanic'\n",
    "\n",
    "# download data\n",
    "if not os.path.exists(data_dir):\n",
    "    os.mkdir(data_dir)\n",
    "    if os.system(f'cd {data_dir} && kaggle competitions download -c {competition_name} && tar -xzvf {competition_name}.zip') != 0:\n",
    "        print('download data error')"
   ]
  },
  {
   "cell_type": "code",
   "execution_count": 2,
   "metadata": {},
   "outputs": [
    {
     "name": "stderr",
     "output_type": "stream",
     "text": [
      "100%|██████████| 3.18k/3.18k [00:03<00:00, 940B/s]  \n"
     ]
    },
    {
     "name": "stdout",
     "output_type": "stream",
     "text": [
      "Successfully submitted to Titanic - Machine Learning from DisasterfileName               date                 description  status    publicScore  privateScore  \n",
      "---------------------  -------------------  -----------  --------  -----------  ------------  \n",
      "gender_submission.csv  2023-01-15 06:20:15  submit       complete  0.76555                    \n",
      "gender_submission.csv  2023-01-15 06:13:12  test         complete  0.76555                    \n",
      "gender_submission.csv  2023-01-15 05:58:15  test         complete  0.76555                    \n"
     ]
    },
    {
     "data": {
      "text/plain": [
       "0"
      ]
     },
     "execution_count": 2,
     "metadata": {},
     "output_type": "execute_result"
    }
   ],
   "source": [
    "# submit\n",
    "result_file = 'gender_submission.csv'\n",
    "os.system(f'cd {data_dir} && kaggle competitions submit -c {competition_name} -f {result_file} -m \"submit\"')\n",
    "os.system(f'kaggle competitions submissions {competition_name}')"
   ]
  }
 ],
 "metadata": {
  "kernelspec": {
   "display_name": "Python 3",
   "language": "python",
   "name": "python3"
  },
  "language_info": {
   "codemirror_mode": {
    "name": "ipython",
    "version": 3
   },
   "file_extension": ".py",
   "mimetype": "text/x-python",
   "name": "python",
   "nbconvert_exporter": "python",
   "pygments_lexer": "ipython3",
   "version": "3.10.8"
  },
  "orig_nbformat": 4,
  "vscode": {
   "interpreter": {
    "hash": "6ecdebf77f2ee3a47348d003f751c63e810ca996c1c68d1179f338200fa83b34"
   }
  }
 },
 "nbformat": 4,
 "nbformat_minor": 2
}
