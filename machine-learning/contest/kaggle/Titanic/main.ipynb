{
 "cells": [
  {
   "cell_type": "code",
   "execution_count": 9,
   "metadata": {},
   "outputs": [],
   "source": [
    "# init env\n",
    "import numpy as np\n",
    "import pandas as pd\n",
    "import os\n",
    "\n",
    "data_dir = 'data'\n",
    "competition_name = 'titanic'\n",
    "\n",
    "# download data\n",
    "if not os.path.exists(data_dir):\n",
    "    os.mkdir(data_dir)\n",
    "    if os.system(f'cd {data_dir} && kaggle competitions download -c {competition_name} && tar -xzvf {competition_name}.zip') != 0:\n",
    "        print('download data error')"
   ]
  },
  {
   "cell_type": "code",
   "execution_count": null,
   "metadata": {},
   "outputs": [],
   "source": [
    "# submit\n"
   ]
  }
 ],
 "metadata": {
  "kernelspec": {
   "display_name": "Python 3",
   "language": "python",
   "name": "python3"
  },
  "language_info": {
   "codemirror_mode": {
    "name": "ipython",
    "version": 3
   },
   "file_extension": ".py",
   "mimetype": "text/x-python",
   "name": "python",
   "nbconvert_exporter": "python",
   "pygments_lexer": "ipython3",
   "version": "3.7.1"
  },
  "orig_nbformat": 4,
  "vscode": {
   "interpreter": {
    "hash": "e92c2edf4327043439448f6f7aa2a9aac16f844ad04d33e2230137203015ee92"
   }
  }
 },
 "nbformat": 4,
 "nbformat_minor": 2
}
